{
 "cells": [
  {
   "cell_type": "code",
   "execution_count": 1,
   "id": "d0ac9682-55b7-4f56-9fb3-0d76144eee71",
   "metadata": {},
   "outputs": [],
   "source": [
    "import plotly.express as px\n",
    "import pandas as pd\n",
    "import plotly.offline as py"
   ]
  },
  {
   "cell_type": "code",
   "execution_count": 2,
   "id": "a1525f20-681f-46a7-a8e9-c43cfb11f0a0",
   "metadata": {},
   "outputs": [
    {
     "data": {
      "text/html": [
       "<div>\n",
       "<style scoped>\n",
       "    .dataframe tbody tr th:only-of-type {\n",
       "        vertical-align: middle;\n",
       "    }\n",
       "\n",
       "    .dataframe tbody tr th {\n",
       "        vertical-align: top;\n",
       "    }\n",
       "\n",
       "    .dataframe thead th {\n",
       "        text-align: right;\n",
       "    }\n",
       "</style>\n",
       "<table border=\"1\" class=\"dataframe\">\n",
       "  <thead>\n",
       "    <tr style=\"text-align: right;\">\n",
       "      <th></th>\n",
       "      <th>Task</th>\n",
       "      <th>Start</th>\n",
       "      <th>Finish</th>\n",
       "      <th>User</th>\n",
       "      <th>Sponsor</th>\n",
       "      <th>Duration</th>\n",
       "    </tr>\n",
       "  </thead>\n",
       "  <tbody>\n",
       "    <tr>\n",
       "      <th>0</th>\n",
       "      <td>Inc 67</td>\n",
       "      <td>2009-01-01</td>\n",
       "      <td>2009-03-05</td>\n",
       "      <td>Increment</td>\n",
       "      <td>NASA</td>\n",
       "      <td>63 days</td>\n",
       "    </tr>\n",
       "    <tr>\n",
       "      <th>1</th>\n",
       "      <td>Inc 68</td>\n",
       "      <td>2009-03-05</td>\n",
       "      <td>2009-06-05</td>\n",
       "      <td>Increment</td>\n",
       "      <td>NASA</td>\n",
       "      <td>92 days</td>\n",
       "    </tr>\n",
       "    <tr>\n",
       "      <th>2</th>\n",
       "      <td>CrewMin-S6</td>\n",
       "      <td>2009-02-27</td>\n",
       "      <td>2009-02-28</td>\n",
       "      <td>Facility</td>\n",
       "      <td>NASA</td>\n",
       "      <td>1 days</td>\n",
       "    </tr>\n",
       "    <tr>\n",
       "      <th>3</th>\n",
       "      <td>CrewMin-S7</td>\n",
       "      <td>2009-04-14</td>\n",
       "      <td>2009-04-15</td>\n",
       "      <td>Facility</td>\n",
       "      <td>NASA</td>\n",
       "      <td>1 days</td>\n",
       "    </tr>\n",
       "    <tr>\n",
       "      <th>4</th>\n",
       "      <td>SVGS-1</td>\n",
       "      <td>2009-02-20</td>\n",
       "      <td>2009-02-21</td>\n",
       "      <td>SVGS</td>\n",
       "      <td>NatLab</td>\n",
       "      <td>1 days</td>\n",
       "    </tr>\n",
       "  </tbody>\n",
       "</table>\n",
       "</div>"
      ],
      "text/plain": [
       "         Task       Start      Finish       User Sponsor Duration\n",
       "0      Inc 67  2009-01-01  2009-03-05  Increment    NASA  63 days\n",
       "1      Inc 68  2009-03-05  2009-06-05  Increment    NASA  92 days\n",
       "2  CrewMin-S6  2009-02-27  2009-02-28   Facility    NASA   1 days\n",
       "3  CrewMin-S7  2009-04-14  2009-04-15   Facility    NASA   1 days\n",
       "4      SVGS-1  2009-02-20  2009-02-21       SVGS  NatLab   1 days"
      ]
     },
     "execution_count": 2,
     "metadata": {},
     "output_type": "execute_result"
    }
   ],
   "source": [
    "df = pd.DataFrame([\n",
    "    dict(Task=\"Inc 67\",     Start='2009-01-01', Finish='2009-03-05', User=\"Increment\",Sponsor=\"NASA\"),\n",
    "    dict(Task=\"Inc 68\",     Start='2009-03-05', Finish='2009-06-05', User=\"Increment\",Sponsor=\"NASA\"),\n",
    "    dict(Task=\"CrewMin-S6\", Start='2009-02-27', Finish='2009-02-28', User=\"Facility\", Sponsor=\"NASA\"),\n",
    "    dict(Task=\"CrewMin-S7\", Start='2009-04-14', Finish='2009-04-15', User=\"Facility\", Sponsor=\"NASA\"),\n",
    "    dict(Task=\"SVGS-1\",     Start='2009-02-20', Finish='2009-02-21', User=\"SVGS\",     Sponsor=\"NatLab\"),\n",
    "\n",
    "])\n",
    "\n",
    "# compute duration and add new column\n",
    "df['Duration'] = pd.to_datetime(df['Finish']) - pd.to_datetime(df['Start'])\n",
    "# Get only hours\n",
    "#df['Duration'] = df['Duration'].astype(str).map(lambda x: x[7:])\n",
    "df"
   ]
  },
  {
   "cell_type": "code",
   "execution_count": 9,
   "id": "8ad46be6-c614-454a-952d-868a1ddec087",
   "metadata": {},
   "outputs": [
    {
     "data": {
      "application/vnd.plotly.v1+json": {
       "config": {
        "plotlyServerURL": "https://plot.ly"
       },
       "data": [
        {
         "alignmentgroup": "True",
         "base": [
          "2009-01-01",
          "2009-03-05",
          "2009-02-27",
          "2009-04-14"
         ],
         "customdata": [
          [
           "Inc 67",
           "P63DT0H0M0S",
           "NASA"
          ],
          [
           "Inc 68",
           "P92DT0H0M0S",
           "NASA"
          ],
          [
           "CrewMin-S6",
           "P1DT0H0M0S",
           "NASA"
          ],
          [
           "CrewMin-S7",
           "P1DT0H0M0S",
           "NASA"
          ]
         ],
         "hovertemplate": "Sponsor=%{customdata[2]}<br>Start=%{base}<br>Finish=%{x}<br>User=%{y}<br>Task=%{customdata[0]}<br>Duration=%{customdata[1]}<extra></extra>",
         "legendgroup": "NASA",
         "marker": {
          "color": "#636efa"
         },
         "name": "NASA",
         "offsetgroup": "NASA",
         "orientation": "h",
         "showlegend": true,
         "text": [
          "Inc 67",
          "Inc 68",
          "CrewMin-S6",
          "CrewMin-S7"
         ],
         "textposition": "auto",
         "type": "bar",
         "x": [
          5443200000,
          7948800000,
          86400000,
          86400000
         ],
         "xaxis": "x",
         "y": [
          "Increment",
          "Increment",
          "Facility",
          "Facility"
         ],
         "yaxis": "y"
        },
        {
         "alignmentgroup": "True",
         "base": [
          "2009-02-20"
         ],
         "customdata": [
          [
           "SVGS-1",
           "P1DT0H0M0S",
           "NatLab"
          ]
         ],
         "hovertemplate": "Sponsor=%{customdata[2]}<br>Start=%{base}<br>Finish=%{x}<br>User=%{y}<br>Task=%{customdata[0]}<br>Duration=%{customdata[1]}<extra></extra>",
         "legendgroup": "NatLab",
         "marker": {
          "color": "#EF553B"
         },
         "name": "NatLab",
         "offsetgroup": "NatLab",
         "orientation": "h",
         "showlegend": true,
         "text": [
          "SVGS-1"
         ],
         "textposition": "auto",
         "type": "bar",
         "x": [
          86400000
         ],
         "xaxis": "x",
         "y": [
          "SVGS"
         ],
         "yaxis": "y"
        }
       ],
       "layout": {
        "annotations": [
         {
          "showarrow": false,
          "text": "Text",
          "x": "2009-05-20",
          "y": 0.5,
          "yref": "paper",
          "yshift": 10
         }
        ],
        "barmode": "overlay",
        "height": 450,
        "legend": {
         "title": {
          "text": "Sponsor"
         },
         "tracegroupgap": 0
        },
        "shapes": [
         {
          "type": "line",
          "x0": "2009-04-20",
          "x1": "2009-04-20",
          "xref": "x",
          "y0": 0,
          "y1": 1,
          "yref": "paper"
         },
         {
          "type": "rect",
          "x0": "2009-04-22",
          "x1": "2009-05-20",
          "xref": "x",
          "y0": -0.1,
          "y1": 0.5,
          "yref": "paper"
         }
        ],
        "template": {
         "data": {
          "bar": [
           {
            "error_x": {
             "color": "#2a3f5f"
            },
            "error_y": {
             "color": "#2a3f5f"
            },
            "marker": {
             "line": {
              "color": "#E5ECF6",
              "width": 0.5
             }
            },
            "type": "bar"
           }
          ],
          "barpolar": [
           {
            "marker": {
             "line": {
              "color": "#E5ECF6",
              "width": 0.5
             }
            },
            "type": "barpolar"
           }
          ],
          "carpet": [
           {
            "aaxis": {
             "endlinecolor": "#2a3f5f",
             "gridcolor": "white",
             "linecolor": "white",
             "minorgridcolor": "white",
             "startlinecolor": "#2a3f5f"
            },
            "baxis": {
             "endlinecolor": "#2a3f5f",
             "gridcolor": "white",
             "linecolor": "white",
             "minorgridcolor": "white",
             "startlinecolor": "#2a3f5f"
            },
            "type": "carpet"
           }
          ],
          "choropleth": [
           {
            "colorbar": {
             "outlinewidth": 0,
             "ticks": ""
            },
            "type": "choropleth"
           }
          ],
          "contour": [
           {
            "colorbar": {
             "outlinewidth": 0,
             "ticks": ""
            },
            "colorscale": [
             [
              0,
              "#0d0887"
             ],
             [
              0.1111111111111111,
              "#46039f"
             ],
             [
              0.2222222222222222,
              "#7201a8"
             ],
             [
              0.3333333333333333,
              "#9c179e"
             ],
             [
              0.4444444444444444,
              "#bd3786"
             ],
             [
              0.5555555555555556,
              "#d8576b"
             ],
             [
              0.6666666666666666,
              "#ed7953"
             ],
             [
              0.7777777777777778,
              "#fb9f3a"
             ],
             [
              0.8888888888888888,
              "#fdca26"
             ],
             [
              1,
              "#f0f921"
             ]
            ],
            "type": "contour"
           }
          ],
          "contourcarpet": [
           {
            "colorbar": {
             "outlinewidth": 0,
             "ticks": ""
            },
            "type": "contourcarpet"
           }
          ],
          "heatmap": [
           {
            "colorbar": {
             "outlinewidth": 0,
             "ticks": ""
            },
            "colorscale": [
             [
              0,
              "#0d0887"
             ],
             [
              0.1111111111111111,
              "#46039f"
             ],
             [
              0.2222222222222222,
              "#7201a8"
             ],
             [
              0.3333333333333333,
              "#9c179e"
             ],
             [
              0.4444444444444444,
              "#bd3786"
             ],
             [
              0.5555555555555556,
              "#d8576b"
             ],
             [
              0.6666666666666666,
              "#ed7953"
             ],
             [
              0.7777777777777778,
              "#fb9f3a"
             ],
             [
              0.8888888888888888,
              "#fdca26"
             ],
             [
              1,
              "#f0f921"
             ]
            ],
            "type": "heatmap"
           }
          ],
          "heatmapgl": [
           {
            "colorbar": {
             "outlinewidth": 0,
             "ticks": ""
            },
            "colorscale": [
             [
              0,
              "#0d0887"
             ],
             [
              0.1111111111111111,
              "#46039f"
             ],
             [
              0.2222222222222222,
              "#7201a8"
             ],
             [
              0.3333333333333333,
              "#9c179e"
             ],
             [
              0.4444444444444444,
              "#bd3786"
             ],
             [
              0.5555555555555556,
              "#d8576b"
             ],
             [
              0.6666666666666666,
              "#ed7953"
             ],
             [
              0.7777777777777778,
              "#fb9f3a"
             ],
             [
              0.8888888888888888,
              "#fdca26"
             ],
             [
              1,
              "#f0f921"
             ]
            ],
            "type": "heatmapgl"
           }
          ],
          "histogram": [
           {
            "marker": {
             "colorbar": {
              "outlinewidth": 0,
              "ticks": ""
             }
            },
            "type": "histogram"
           }
          ],
          "histogram2d": [
           {
            "colorbar": {
             "outlinewidth": 0,
             "ticks": ""
            },
            "colorscale": [
             [
              0,
              "#0d0887"
             ],
             [
              0.1111111111111111,
              "#46039f"
             ],
             [
              0.2222222222222222,
              "#7201a8"
             ],
             [
              0.3333333333333333,
              "#9c179e"
             ],
             [
              0.4444444444444444,
              "#bd3786"
             ],
             [
              0.5555555555555556,
              "#d8576b"
             ],
             [
              0.6666666666666666,
              "#ed7953"
             ],
             [
              0.7777777777777778,
              "#fb9f3a"
             ],
             [
              0.8888888888888888,
              "#fdca26"
             ],
             [
              1,
              "#f0f921"
             ]
            ],
            "type": "histogram2d"
           }
          ],
          "histogram2dcontour": [
           {
            "colorbar": {
             "outlinewidth": 0,
             "ticks": ""
            },
            "colorscale": [
             [
              0,
              "#0d0887"
             ],
             [
              0.1111111111111111,
              "#46039f"
             ],
             [
              0.2222222222222222,
              "#7201a8"
             ],
             [
              0.3333333333333333,
              "#9c179e"
             ],
             [
              0.4444444444444444,
              "#bd3786"
             ],
             [
              0.5555555555555556,
              "#d8576b"
             ],
             [
              0.6666666666666666,
              "#ed7953"
             ],
             [
              0.7777777777777778,
              "#fb9f3a"
             ],
             [
              0.8888888888888888,
              "#fdca26"
             ],
             [
              1,
              "#f0f921"
             ]
            ],
            "type": "histogram2dcontour"
           }
          ],
          "mesh3d": [
           {
            "colorbar": {
             "outlinewidth": 0,
             "ticks": ""
            },
            "type": "mesh3d"
           }
          ],
          "parcoords": [
           {
            "line": {
             "colorbar": {
              "outlinewidth": 0,
              "ticks": ""
             }
            },
            "type": "parcoords"
           }
          ],
          "pie": [
           {
            "automargin": true,
            "type": "pie"
           }
          ],
          "scatter": [
           {
            "marker": {
             "colorbar": {
              "outlinewidth": 0,
              "ticks": ""
             }
            },
            "type": "scatter"
           }
          ],
          "scatter3d": [
           {
            "line": {
             "colorbar": {
              "outlinewidth": 0,
              "ticks": ""
             }
            },
            "marker": {
             "colorbar": {
              "outlinewidth": 0,
              "ticks": ""
             }
            },
            "type": "scatter3d"
           }
          ],
          "scattercarpet": [
           {
            "marker": {
             "colorbar": {
              "outlinewidth": 0,
              "ticks": ""
             }
            },
            "type": "scattercarpet"
           }
          ],
          "scattergeo": [
           {
            "marker": {
             "colorbar": {
              "outlinewidth": 0,
              "ticks": ""
             }
            },
            "type": "scattergeo"
           }
          ],
          "scattergl": [
           {
            "marker": {
             "colorbar": {
              "outlinewidth": 0,
              "ticks": ""
             }
            },
            "type": "scattergl"
           }
          ],
          "scattermapbox": [
           {
            "marker": {
             "colorbar": {
              "outlinewidth": 0,
              "ticks": ""
             }
            },
            "type": "scattermapbox"
           }
          ],
          "scatterpolar": [
           {
            "marker": {
             "colorbar": {
              "outlinewidth": 0,
              "ticks": ""
             }
            },
            "type": "scatterpolar"
           }
          ],
          "scatterpolargl": [
           {
            "marker": {
             "colorbar": {
              "outlinewidth": 0,
              "ticks": ""
             }
            },
            "type": "scatterpolargl"
           }
          ],
          "scatterternary": [
           {
            "marker": {
             "colorbar": {
              "outlinewidth": 0,
              "ticks": ""
             }
            },
            "type": "scatterternary"
           }
          ],
          "surface": [
           {
            "colorbar": {
             "outlinewidth": 0,
             "ticks": ""
            },
            "colorscale": [
             [
              0,
              "#0d0887"
             ],
             [
              0.1111111111111111,
              "#46039f"
             ],
             [
              0.2222222222222222,
              "#7201a8"
             ],
             [
              0.3333333333333333,
              "#9c179e"
             ],
             [
              0.4444444444444444,
              "#bd3786"
             ],
             [
              0.5555555555555556,
              "#d8576b"
             ],
             [
              0.6666666666666666,
              "#ed7953"
             ],
             [
              0.7777777777777778,
              "#fb9f3a"
             ],
             [
              0.8888888888888888,
              "#fdca26"
             ],
             [
              1,
              "#f0f921"
             ]
            ],
            "type": "surface"
           }
          ],
          "table": [
           {
            "cells": {
             "fill": {
              "color": "#EBF0F8"
             },
             "line": {
              "color": "white"
             }
            },
            "header": {
             "fill": {
              "color": "#C8D4E3"
             },
             "line": {
              "color": "white"
             }
            },
            "type": "table"
           }
          ]
         },
         "layout": {
          "annotationdefaults": {
           "arrowcolor": "#2a3f5f",
           "arrowhead": 0,
           "arrowwidth": 1
          },
          "autotypenumbers": "strict",
          "coloraxis": {
           "colorbar": {
            "outlinewidth": 0,
            "ticks": ""
           }
          },
          "colorscale": {
           "diverging": [
            [
             0,
             "#8e0152"
            ],
            [
             0.1,
             "#c51b7d"
            ],
            [
             0.2,
             "#de77ae"
            ],
            [
             0.3,
             "#f1b6da"
            ],
            [
             0.4,
             "#fde0ef"
            ],
            [
             0.5,
             "#f7f7f7"
            ],
            [
             0.6,
             "#e6f5d0"
            ],
            [
             0.7,
             "#b8e186"
            ],
            [
             0.8,
             "#7fbc41"
            ],
            [
             0.9,
             "#4d9221"
            ],
            [
             1,
             "#276419"
            ]
           ],
           "sequential": [
            [
             0,
             "#0d0887"
            ],
            [
             0.1111111111111111,
             "#46039f"
            ],
            [
             0.2222222222222222,
             "#7201a8"
            ],
            [
             0.3333333333333333,
             "#9c179e"
            ],
            [
             0.4444444444444444,
             "#bd3786"
            ],
            [
             0.5555555555555556,
             "#d8576b"
            ],
            [
             0.6666666666666666,
             "#ed7953"
            ],
            [
             0.7777777777777778,
             "#fb9f3a"
            ],
            [
             0.8888888888888888,
             "#fdca26"
            ],
            [
             1,
             "#f0f921"
            ]
           ],
           "sequentialminus": [
            [
             0,
             "#0d0887"
            ],
            [
             0.1111111111111111,
             "#46039f"
            ],
            [
             0.2222222222222222,
             "#7201a8"
            ],
            [
             0.3333333333333333,
             "#9c179e"
            ],
            [
             0.4444444444444444,
             "#bd3786"
            ],
            [
             0.5555555555555556,
             "#d8576b"
            ],
            [
             0.6666666666666666,
             "#ed7953"
            ],
            [
             0.7777777777777778,
             "#fb9f3a"
            ],
            [
             0.8888888888888888,
             "#fdca26"
            ],
            [
             1,
             "#f0f921"
            ]
           ]
          },
          "colorway": [
           "#636efa",
           "#EF553B",
           "#00cc96",
           "#ab63fa",
           "#FFA15A",
           "#19d3f3",
           "#FF6692",
           "#B6E880",
           "#FF97FF",
           "#FECB52"
          ],
          "font": {
           "color": "#2a3f5f"
          },
          "geo": {
           "bgcolor": "white",
           "lakecolor": "white",
           "landcolor": "#E5ECF6",
           "showlakes": true,
           "showland": true,
           "subunitcolor": "white"
          },
          "hoverlabel": {
           "align": "left"
          },
          "hovermode": "closest",
          "mapbox": {
           "style": "light"
          },
          "paper_bgcolor": "white",
          "plot_bgcolor": "#E5ECF6",
          "polar": {
           "angularaxis": {
            "gridcolor": "white",
            "linecolor": "white",
            "ticks": ""
           },
           "bgcolor": "#E5ECF6",
           "radialaxis": {
            "gridcolor": "white",
            "linecolor": "white",
            "ticks": ""
           }
          },
          "scene": {
           "xaxis": {
            "backgroundcolor": "#E5ECF6",
            "gridcolor": "white",
            "gridwidth": 2,
            "linecolor": "white",
            "showbackground": true,
            "ticks": "",
            "zerolinecolor": "white"
           },
           "yaxis": {
            "backgroundcolor": "#E5ECF6",
            "gridcolor": "white",
            "gridwidth": 2,
            "linecolor": "white",
            "showbackground": true,
            "ticks": "",
            "zerolinecolor": "white"
           },
           "zaxis": {
            "backgroundcolor": "#E5ECF6",
            "gridcolor": "white",
            "gridwidth": 2,
            "linecolor": "white",
            "showbackground": true,
            "ticks": "",
            "zerolinecolor": "white"
           }
          },
          "shapedefaults": {
           "line": {
            "color": "#2a3f5f"
           }
          },
          "ternary": {
           "aaxis": {
            "gridcolor": "white",
            "linecolor": "white",
            "ticks": ""
           },
           "baxis": {
            "gridcolor": "white",
            "linecolor": "white",
            "ticks": ""
           },
           "bgcolor": "#E5ECF6",
           "caxis": {
            "gridcolor": "white",
            "linecolor": "white",
            "ticks": ""
           }
          },
          "title": {
           "x": 0.05
          },
          "xaxis": {
           "automargin": true,
           "gridcolor": "white",
           "linecolor": "white",
           "ticks": "",
           "title": {
            "standoff": 15
           },
           "zerolinecolor": "white",
           "zerolinewidth": 2
          },
          "yaxis": {
           "automargin": true,
           "gridcolor": "white",
           "linecolor": "white",
           "ticks": "",
           "title": {
            "standoff": 15
           },
           "zerolinecolor": "white",
           "zerolinewidth": 2
          }
         }
        },
        "title": {
         "text": "Astrobee Schedule"
        },
        "width": 900,
        "xaxis": {
         "anchor": "y",
         "autorange": true,
         "domain": [
          0,
          1
         ],
         "range": [
          "2008-12-23 09:20",
          "2009-06-13 14:40"
         ],
         "type": "date"
        },
        "yaxis": {
         "anchor": "x",
         "autorange": true,
         "domain": [
          0,
          1
         ],
         "range": [
          2.5,
          -0.5
         ],
         "title": {
          "text": "User"
         },
         "type": "category"
        }
       }
      },
      "image/png": "[encoded data removed]",
      "text/html": [
       "<div>                            <div id=\"d2afd366-fb77-429b-abd5-54ff893d0a3a\" class=\"plotly-graph-div\" style=\"height:450px; width:900px;\"></div>            <script type=\"text/javascript\">                require([\"plotly\"], function(Plotly) {                    window.PLOTLYENV=window.PLOTLYENV || {};                                    if (document.getElementById(\"d2afd366-fb77-429b-abd5-54ff893d0a3a\")) {                    Plotly.newPlot(                        \"d2afd366-fb77-429b-abd5-54ff893d0a3a\",                        [{\"alignmentgroup\": \"True\", \"base\": [\"2009-01-01\", \"2009-03-05\", \"2009-02-27\", \"2009-04-14\"], \"customdata\": [[\"Inc 67\", \"P63DT0H0M0S\", \"NASA\"], [\"Inc 68\", \"P92DT0H0M0S\", \"NASA\"], [\"CrewMin-S6\", \"P1DT0H0M0S\", \"NASA\"], [\"CrewMin-S7\", \"P1DT0H0M0S\", \"NASA\"]], \"hovertemplate\": \"Sponsor=%{customdata[2]}<br>Start=%{base}<br>Finish=%{x}<br>User=%{y}<br>Task=%{customdata[0]}<br>Duration=%{customdata[1]}<extra></extra>\", \"legendgroup\": \"NASA\", \"marker\": {\"color\": \"#636efa\"}, \"name\": \"NASA\", \"offsetgroup\": \"NASA\", \"orientation\": \"h\", \"showlegend\": true, \"text\": [\"Inc 67\", \"Inc 68\", \"CrewMin-S6\", \"CrewMin-S7\"], \"textposition\": \"auto\", \"type\": \"bar\", \"x\": [5443200000.0, 7948800000.0, 86400000.0, 86400000.0], \"xaxis\": \"x\", \"y\": [\"Increment\", \"Increment\", \"Facility\", \"Facility\"], \"yaxis\": \"y\"}, {\"alignmentgroup\": \"True\", \"base\": [\"2009-02-20\"], \"customdata\": [[\"SVGS-1\", \"P1DT0H0M0S\", \"NatLab\"]], \"hovertemplate\": \"Sponsor=%{customdata[2]}<br>Start=%{base}<br>Finish=%{x}<br>User=%{y}<br>Task=%{customdata[0]}<br>Duration=%{customdata[1]}<extra></extra>\", \"legendgroup\": \"NatLab\", \"marker\": {\"color\": \"#EF553B\"}, \"name\": \"NatLab\", \"offsetgroup\": \"NatLab\", \"orientation\": \"h\", \"showlegend\": true, \"text\": [\"SVGS-1\"], \"textposition\": \"auto\", \"type\": \"bar\", \"x\": [86400000.0], \"xaxis\": \"x\", \"y\": [\"SVGS\"], \"yaxis\": \"y\"}],                        {\"annotations\": [{\"showarrow\": false, \"text\": \"Text\", \"x\": \"2009-05-20\", \"y\": 0.5, \"yref\": \"paper\", \"yshift\": 10}], \"barmode\": \"overlay\", \"height\": 450, \"legend\": {\"title\": {\"text\": \"Sponsor\"}, \"tracegroupgap\": 0}, \"shapes\": [{\"type\": \"line\", \"x0\": \"2009-04-20\", \"x1\": \"2009-04-20\", \"xref\": \"x\", \"y0\": 0, \"y1\": 1, \"yref\": \"paper\"}, {\"type\": \"rect\", \"x0\": \"2009-04-22\", \"x1\": \"2009-05-20\", \"xref\": \"x\", \"y0\": -0.1, \"y1\": 0.5, \"yref\": \"paper\"}], \"template\": {\"data\": {\"bar\": [{\"error_x\": {\"color\": \"#2a3f5f\"}, \"error_y\": {\"color\": \"#2a3f5f\"}, \"marker\": {\"line\": {\"color\": \"#E5ECF6\", \"width\": 0.5}}, \"type\": \"bar\"}], \"barpolar\": [{\"marker\": {\"line\": {\"color\": \"#E5ECF6\", \"width\": 0.5}}, \"type\": \"barpolar\"}], \"carpet\": [{\"aaxis\": {\"endlinecolor\": \"#2a3f5f\", \"gridcolor\": \"white\", \"linecolor\": \"white\", \"minorgridcolor\": \"white\", \"startlinecolor\": \"#2a3f5f\"}, \"baxis\": {\"endlinecolor\": \"#2a3f5f\", \"gridcolor\": \"white\", \"linecolor\": \"white\", \"minorgridcolor\": \"white\", \"startlinecolor\": \"#2a3f5f\"}, \"type\": \"carpet\"}], \"choropleth\": [{\"colorbar\": {\"outlinewidth\": 0, \"ticks\": \"\"}, \"type\": \"choropleth\"}], \"contour\": [{\"colorbar\": {\"outlinewidth\": 0, \"ticks\": \"\"}, \"colorscale\": [[0.0, \"#0d0887\"], [0.1111111111111111, \"#46039f\"], [0.2222222222222222, \"#7201a8\"], [0.3333333333333333, \"#9c179e\"], [0.4444444444444444, \"#bd3786\"], [0.5555555555555556, \"#d8576b\"], [0.6666666666666666, \"#ed7953\"], [0.7777777777777778, \"#fb9f3a\"], [0.8888888888888888, \"#fdca26\"], [1.0, \"#f0f921\"]], \"type\": \"contour\"}], \"contourcarpet\": [{\"colorbar\": {\"outlinewidth\": 0, \"ticks\": \"\"}, \"type\": \"contourcarpet\"}], \"heatmap\": [{\"colorbar\": {\"outlinewidth\": 0, \"ticks\": \"\"}, \"colorscale\": [[0.0, \"#0d0887\"], [0.1111111111111111, \"#46039f\"], [0.2222222222222222, \"#7201a8\"], [0.3333333333333333, \"#9c179e\"], [0.4444444444444444, \"#bd3786\"], [0.5555555555555556, \"#d8576b\"], [0.6666666666666666, \"#ed7953\"], [0.7777777777777778, \"#fb9f3a\"], [0.8888888888888888, \"#fdca26\"], [1.0, \"#f0f921\"]], \"type\": \"heatmap\"}], \"heatmapgl\": [{\"colorbar\": {\"outlinewidth\": 0, \"ticks\": \"\"}, \"colorscale\": [[0.0, \"#0d0887\"], [0.1111111111111111, \"#46039f\"], [0.2222222222222222, \"#7201a8\"], [0.3333333333333333, \"#9c179e\"], [0.4444444444444444, \"#bd3786\"], [0.5555555555555556, \"#d8576b\"], [0.6666666666666666, \"#ed7953\"], [0.7777777777777778, \"#fb9f3a\"], [0.8888888888888888, \"#fdca26\"], [1.0, \"#f0f921\"]], \"type\": \"heatmapgl\"}], \"histogram\": [{\"marker\": {\"colorbar\": {\"outlinewidth\": 0, \"ticks\": \"\"}}, \"type\": \"histogram\"}], \"histogram2d\": [{\"colorbar\": {\"outlinewidth\": 0, \"ticks\": \"\"}, \"colorscale\": [[0.0, \"#0d0887\"], [0.1111111111111111, \"#46039f\"], [0.2222222222222222, \"#7201a8\"], [0.3333333333333333, \"#9c179e\"], [0.4444444444444444, \"#bd3786\"], [0.5555555555555556, \"#d8576b\"], [0.6666666666666666, \"#ed7953\"], [0.7777777777777778, \"#fb9f3a\"], [0.8888888888888888, \"#fdca26\"], [1.0, \"#f0f921\"]], \"type\": \"histogram2d\"}], \"histogram2dcontour\": [{\"colorbar\": {\"outlinewidth\": 0, \"ticks\": \"\"}, \"colorscale\": [[0.0, \"#0d0887\"], [0.1111111111111111, \"#46039f\"], [0.2222222222222222, \"#7201a8\"], [0.3333333333333333, \"#9c179e\"], [0.4444444444444444, \"#bd3786\"], [0.5555555555555556, \"#d8576b\"], [0.6666666666666666, \"#ed7953\"], [0.7777777777777778, \"#fb9f3a\"], [0.8888888888888888, \"#fdca26\"], [1.0, \"#f0f921\"]], \"type\": \"histogram2dcontour\"}], \"mesh3d\": [{\"colorbar\": {\"outlinewidth\": 0, \"ticks\": \"\"}, \"type\": \"mesh3d\"}], \"parcoords\": [{\"line\": {\"colorbar\": {\"outlinewidth\": 0, \"ticks\": \"\"}}, \"type\": \"parcoords\"}], \"pie\": [{\"automargin\": true, \"type\": \"pie\"}], \"scatter\": [{\"marker\": {\"colorbar\": {\"outlinewidth\": 0, \"ticks\": \"\"}}, \"type\": \"scatter\"}], \"scatter3d\": [{\"line\": {\"colorbar\": {\"outlinewidth\": 0, \"ticks\": \"\"}}, \"marker\": {\"colorbar\": {\"outlinewidth\": 0, \"ticks\": \"\"}}, \"type\": \"scatter3d\"}], \"scattercarpet\": [{\"marker\": {\"colorbar\": {\"outlinewidth\": 0, \"ticks\": \"\"}}, \"type\": \"scattercarpet\"}], \"scattergeo\": [{\"marker\": {\"colorbar\": {\"outlinewidth\": 0, \"ticks\": \"\"}}, \"type\": \"scattergeo\"}], \"scattergl\": [{\"marker\": {\"colorbar\": {\"outlinewidth\": 0, \"ticks\": \"\"}}, \"type\": \"scattergl\"}], \"scattermapbox\": [{\"marker\": {\"colorbar\": {\"outlinewidth\": 0, \"ticks\": \"\"}}, \"type\": \"scattermapbox\"}], \"scatterpolar\": [{\"marker\": {\"colorbar\": {\"outlinewidth\": 0, \"ticks\": \"\"}}, \"type\": \"scatterpolar\"}], \"scatterpolargl\": [{\"marker\": {\"colorbar\": {\"outlinewidth\": 0, \"ticks\": \"\"}}, \"type\": \"scatterpolargl\"}], \"scatterternary\": [{\"marker\": {\"colorbar\": {\"outlinewidth\": 0, \"ticks\": \"\"}}, \"type\": \"scatterternary\"}], \"surface\": [{\"colorbar\": {\"outlinewidth\": 0, \"ticks\": \"\"}, \"colorscale\": [[0.0, \"#0d0887\"], [0.1111111111111111, \"#46039f\"], [0.2222222222222222, \"#7201a8\"], [0.3333333333333333, \"#9c179e\"], [0.4444444444444444, \"#bd3786\"], [0.5555555555555556, \"#d8576b\"], [0.6666666666666666, \"#ed7953\"], [0.7777777777777778, \"#fb9f3a\"], [0.8888888888888888, \"#fdca26\"], [1.0, \"#f0f921\"]], \"type\": \"surface\"}], \"table\": [{\"cells\": {\"fill\": {\"color\": \"#EBF0F8\"}, \"line\": {\"color\": \"white\"}}, \"header\": {\"fill\": {\"color\": \"#C8D4E3\"}, \"line\": {\"color\": \"white\"}}, \"type\": \"table\"}]}, \"layout\": {\"annotationdefaults\": {\"arrowcolor\": \"#2a3f5f\", \"arrowhead\": 0, \"arrowwidth\": 1}, \"autotypenumbers\": \"strict\", \"coloraxis\": {\"colorbar\": {\"outlinewidth\": 0, \"ticks\": \"\"}}, \"colorscale\": {\"diverging\": [[0, \"#8e0152\"], [0.1, \"#c51b7d\"], [0.2, \"#de77ae\"], [0.3, \"#f1b6da\"], [0.4, \"#fde0ef\"], [0.5, \"#f7f7f7\"], [0.6, \"#e6f5d0\"], [0.7, \"#b8e186\"], [0.8, \"#7fbc41\"], [0.9, \"#4d9221\"], [1, \"#276419\"]], \"sequential\": [[0.0, \"#0d0887\"], [0.1111111111111111, \"#46039f\"], [0.2222222222222222, \"#7201a8\"], [0.3333333333333333, \"#9c179e\"], [0.4444444444444444, \"#bd3786\"], [0.5555555555555556, \"#d8576b\"], [0.6666666666666666, \"#ed7953\"], [0.7777777777777778, \"#fb9f3a\"], [0.8888888888888888, \"#fdca26\"], [1.0, \"#f0f921\"]], \"sequentialminus\": [[0.0, \"#0d0887\"], [0.1111111111111111, \"#46039f\"], [0.2222222222222222, \"#7201a8\"], [0.3333333333333333, \"#9c179e\"], [0.4444444444444444, \"#bd3786\"], [0.5555555555555556, \"#d8576b\"], [0.6666666666666666, \"#ed7953\"], [0.7777777777777778, \"#fb9f3a\"], [0.8888888888888888, \"#fdca26\"], [1.0, \"#f0f921\"]]}, \"colorway\": [\"#636efa\", \"#EF553B\", \"#00cc96\", \"#ab63fa\", \"#FFA15A\", \"#19d3f3\", \"#FF6692\", \"#B6E880\", \"#FF97FF\", \"#FECB52\"], \"font\": {\"color\": \"#2a3f5f\"}, \"geo\": {\"bgcolor\": \"white\", \"lakecolor\": \"white\", \"landcolor\": \"#E5ECF6\", \"showlakes\": true, \"showland\": true, \"subunitcolor\": \"white\"}, \"hoverlabel\": {\"align\": \"left\"}, \"hovermode\": \"closest\", \"mapbox\": {\"style\": \"light\"}, \"paper_bgcolor\": \"white\", \"plot_bgcolor\": \"#E5ECF6\", \"polar\": {\"angularaxis\": {\"gridcolor\": \"white\", \"linecolor\": \"white\", \"ticks\": \"\"}, \"bgcolor\": \"#E5ECF6\", \"radialaxis\": {\"gridcolor\": \"white\", \"linecolor\": \"white\", \"ticks\": \"\"}}, \"scene\": {\"xaxis\": {\"backgroundcolor\": \"#E5ECF6\", \"gridcolor\": \"white\", \"gridwidth\": 2, \"linecolor\": \"white\", \"showbackground\": true, \"ticks\": \"\", \"zerolinecolor\": \"white\"}, \"yaxis\": {\"backgroundcolor\": \"#E5ECF6\", \"gridcolor\": \"white\", \"gridwidth\": 2, \"linecolor\": \"white\", \"showbackground\": true, \"ticks\": \"\", \"zerolinecolor\": \"white\"}, \"zaxis\": {\"backgroundcolor\": \"#E5ECF6\", \"gridcolor\": \"white\", \"gridwidth\": 2, \"linecolor\": \"white\", \"showbackground\": true, \"ticks\": \"\", \"zerolinecolor\": \"white\"}}, \"shapedefaults\": {\"line\": {\"color\": \"#2a3f5f\"}}, \"ternary\": {\"aaxis\": {\"gridcolor\": \"white\", \"linecolor\": \"white\", \"ticks\": \"\"}, \"baxis\": {\"gridcolor\": \"white\", \"linecolor\": \"white\", \"ticks\": \"\"}, \"bgcolor\": \"#E5ECF6\", \"caxis\": {\"gridcolor\": \"white\", \"linecolor\": \"white\", \"ticks\": \"\"}}, \"title\": {\"x\": 0.05}, \"xaxis\": {\"automargin\": true, \"gridcolor\": \"white\", \"linecolor\": \"white\", \"ticks\": \"\", \"title\": {\"standoff\": 15}, \"zerolinecolor\": \"white\", \"zerolinewidth\": 2}, \"yaxis\": {\"automargin\": true, \"gridcolor\": \"white\", \"linecolor\": \"white\", \"ticks\": \"\", \"title\": {\"standoff\": 15}, \"zerolinecolor\": \"white\", \"zerolinewidth\": 2}}}, \"title\": {\"text\": \"Astrobee Schedule\"}, \"width\": 900, \"xaxis\": {\"anchor\": \"y\", \"domain\": [0.0, 1.0], \"type\": \"date\"}, \"yaxis\": {\"anchor\": \"x\", \"autorange\": \"reversed\", \"domain\": [0.0, 1.0], \"title\": {\"text\": \"User\"}}},                        {\"responsive\": true}                    ).then(function(){\n",
       "                            \n",
       "var gd = document.getElementById('d2afd366-fb77-429b-abd5-54ff893d0a3a');\n",
       "var x = new MutationObserver(function (mutations, observer) {{\n",
       "        var display = window.getComputedStyle(gd).display;\n",
       "        if (!display || display === 'none') {{\n",
       "            console.log([gd, 'removed!']);\n",
       "            Plotly.purge(gd);\n",
       "            observer.disconnect();\n",
       "        }}\n",
       "}});\n",
       "\n",
       "// Listen for the removal of the full notebook cells\n",
       "var notebookContainer = gd.closest('#notebook-container');\n",
       "if (notebookContainer) {{\n",
       "    x.observe(notebookContainer, {childList: true});\n",
       "}}\n",
       "\n",
       "// Listen for the clearing of the current output cell\n",
       "var outputEl = gd.closest('.output');\n",
       "if (outputEl) {{\n",
       "    x.observe(outputEl, {childList: true});\n",
       "}}\n",
       "\n",
       "                        })                };                });            </script>        </div>"
      ]
     },
     "metadata": {},
     "output_type": "display_data"
    }
   ],
   "source": [
    "# visualize\n",
    "fig = px.timeline(df, x_start=\"Start\", x_end=\"Finish\", y=\"User\", width=900, height=450, \n",
    "                  color=\"Sponsor\", text=\"Task\", title=\"Astrobee Schedule\",\n",
    "                  hover_data=['Task', 'Start', 'Finish', 'Duration', 'Sponsor'])\n",
    "\n",
    "fig.update_yaxes(autorange=\"reversed\")\n",
    "\n",
    "# add vertical line indicating specific date (e.g. today)\n",
    "today = '2009-04-20'\n",
    "date1 = '2009-04-22'\n",
    "date2 = '2009-05-20'\n",
    "\n",
    "fig.update_layout(shapes=[\n",
    "    dict(\n",
    "      type='line',\n",
    "      yref='paper', y0=0, y1=1,\n",
    "      xref='x', x0=today, x1=today\n",
    "    )\n",
    "])\n",
    "\n",
    "fig.add_shape(dict(\n",
    "      type='rect',\n",
    "      xref='x', x0=date1, x1=date2,\n",
    "      yref='paper', y0=-0.1, y1=0.5\n",
    "    ))\n",
    "\n",
    "fig.add_annotation(x=date2, y=0.5, yref='paper',\n",
    "            text=\"Text\",\n",
    "            showarrow=False, yshift=10)\n",
    "\n",
    "fig.show()\n",
    "fig.write_html('PlotlySchedule_figure.html', auto_open=True)"
   ]
  },
  {
   "cell_type": "code",
   "execution_count": 14,
   "id": "6b7e987f-f48e-45bc-942d-fde8f17f7c73",
   "metadata": {},
   "outputs": [
    {
     "data": {
      "text/plain": [
       "(Bar({\n",
       "     'alignmentgroup': 'True',\n",
       "     'base': array(['2009-01-01', '2009-03-05', '2009-02-27', '2009-04-14'], dtype=object),\n",
       "     'customdata': array([['Inc 67', Timedelta('63 days 00:00:00'), 'NASA'],\n",
       "                          ['Inc 68', Timedelta('92 days 00:00:00'), 'NASA'],\n",
       "                          ['CrewMin-S6', Timedelta('1 days 00:00:00'), 'NASA'],\n",
       "                          ['CrewMin-S7', Timedelta('1 days 00:00:00'), 'NASA']], dtype=object),\n",
       "     'hovertemplate': ('Sponsor=%{customdata[2]}<br>St' ... '{customdata[1]}<extra></extra>'),\n",
       "     'legendgroup': 'NASA',\n",
       "     'marker': {'color': '#636efa'},\n",
       "     'name': 'NASA',\n",
       "     'offsetgroup': 'NASA',\n",
       "     'orientation': 'h',\n",
       "     'showlegend': True,\n",
       "     'text': array(['Inc 67', 'Inc 68', 'CrewMin-S6', 'CrewMin-S7'], dtype=object),\n",
       "     'textposition': 'auto',\n",
       "     'x': array([5.4432e+09, 7.9488e+09, 8.6400e+07, 8.6400e+07]),\n",
       "     'xaxis': 'x',\n",
       "     'y': array(['Increment', 'Increment', 'Facility', 'Facility'], dtype=object),\n",
       "     'yaxis': 'y'\n",
       " }),\n",
       " Bar({\n",
       "     'alignmentgroup': 'True',\n",
       "     'base': array(['2009-02-20'], dtype=object),\n",
       "     'customdata': array([['SVGS-1', Timedelta('1 days 00:00:00'), 'NatLab']], dtype=object),\n",
       "     'hovertemplate': ('Sponsor=%{customdata[2]}<br>St' ... '{customdata[1]}<extra></extra>'),\n",
       "     'legendgroup': 'NatLab',\n",
       "     'marker': {'color': '#EF553B'},\n",
       "     'name': 'NatLab',\n",
       "     'offsetgroup': 'NatLab',\n",
       "     'orientation': 'h',\n",
       "     'showlegend': True,\n",
       "     'text': array(['SVGS-1'], dtype=object),\n",
       "     'textposition': 'auto',\n",
       "     'x': array([86400000.]),\n",
       "     'xaxis': 'x',\n",
       "     'y': array(['SVGS'], dtype=object),\n",
       "     'yaxis': 'y'\n",
       " }),\n",
       " Image(),\n",
       " Image(),\n",
       " Image(),\n",
       " Image(),\n",
       " Image())"
      ]
     },
     "execution_count": 14,
     "metadata": {},
     "output_type": "execute_result"
    }
   ],
   "source": [
    "fig.add_image()\n",
    "fig.layout\n",
    "fig.data"
   ]
  },
  {
   "cell_type": "markdown",
   "id": "c03ab3e9-3c03-4f63-b970-22abc7a67b5f",
   "metadata": {},
   "source": [
    "extra ref: https://github.com/maxwellbade/plotly_gantt_chart"
   ]
  }
 ],
 "metadata": {
  "kernelspec": {
   "display_name": "Python 3",
   "language": "python",
   "name": "python3"
  },
  "language_info": {
   "codemirror_mode": {
    "name": "ipython",
    "version": 3
   },
   "file_extension": ".py",
   "mimetype": "text/x-python",
   "name": "python",
   "nbconvert_exporter": "python",
   "pygments_lexer": "ipython3",
   "version": "3.8.12"
  }
 },
 "nbformat": 4,
 "nbformat_minor": 5
}
